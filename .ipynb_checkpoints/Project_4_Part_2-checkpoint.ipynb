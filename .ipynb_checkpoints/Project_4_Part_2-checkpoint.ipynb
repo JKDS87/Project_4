{
 "cells": [
  {
   "cell_type": "markdown",
   "id": "11c77e4c-764d-4ec1-a13c-b7c156f1a1ba",
   "metadata": {},
   "source": [
    "# Project 4 - Part 2\n",
    "**Student:** Matthew Malueg"
   ]
  },
  {
   "cell_type": "markdown",
   "id": "f0adee09-fa35-4740-98e9-a6d782db4621",
   "metadata": {},
   "source": [
    "**Task**\n",
    "- Below we will examine a data set on car insurance claims, and analyze information about drives who have or have not made a claim.\n",
    "- Examination of customer info may reveal patterns or trends about who is likely to make a claim, allowing for more accurate risk-assessment for stakeholders.\n",
    "- We will begin by examining, cleaning, and formatting the data before moving on to visualizing and assessing model results."
   ]
  },
  {
   "cell_type": "markdown",
   "id": "63d831bf-daa4-438d-9dc6-db6a4874213f",
   "metadata": {
    "jp-MarkdownHeadingCollapsed": true
   },
   "source": [
    "### Imports and Loading"
   ]
  },
  {
   "cell_type": "code",
   "execution_count": 1,
   "id": "be3bd184-5eb5-40b9-9842-39071a1267e1",
   "metadata": {},
   "outputs": [],
   "source": [
    "# Imports\n",
    "import numpy as np\n",
    "import matplotlib.pyplot as plt\n",
    "import pandas as pd\n",
    "import seaborn as sns\n",
    "import datetime as dt\n",
    "\n",
    "from sklearn.model_selection import train_test_split\n",
    "from sklearn.pipeline import Pipeline, make_pipeline\n",
    "from sklearn.impute import SimpleImputer\n",
    "from sklearn.preprocessing import LabelEncoder, StandardScaler, OrdinalEncoder, OneHotEncoder\n",
    "from sklearn.compose import ColumnTransformer\n",
    "from imblearn.over_sampling import SMOTE\n",
    "\n",
    "from sklearn.inspection import permutation_importance\n",
    "from sklearn.feature_selection import SelectFromModel\n",
    "\n",
    "from sklearn.ensemble import RandomForestClassifier\n",
    "from sklearn.tree import DecisionTreeClassifier\n",
    "from sklearn.decomposition import PCA\n",
    "from sklearn.feature_selection import f_classif\n",
    "from collinearity import SelectNonCollinear\n",
    "\n",
    "from sklearn import set_config\n",
    "set_config(transform_output='pandas',\n",
    "           display='diagram')"
   ]
  },
  {
   "cell_type": "code",
   "execution_count": 2,
   "id": "91dffb64-115a-4993-a873-9ce193a07a15",
   "metadata": {},
   "outputs": [],
   "source": [
    "# Visualization functions\n",
    "def explore_categorical(df, x, fillna = True, placeholder = 'MISSING',\n",
    "                        figsize = (6,4), order = None):\n",
    "    \n",
    "  # Make a copy of the dataframe and fillna\n",
    "  temp_df = df.copy()\n",
    "  # Before filling nulls, save null value counts and percent for printing\n",
    "  null_count = temp_df[x].isna().sum()\n",
    "  null_perc = null_count/len(temp_df)* 100\n",
    "  # fillna with placeholder\n",
    "  if fillna == True:\n",
    "    temp_df[x] = temp_df[x].fillna(placeholder)\n",
    "  # Create figure with desired figsize\n",
    "  fig, ax = plt.subplots(figsize=figsize)\n",
    "  # Plotting a count plot\n",
    "  sns.countplot(data=temp_df, x=x, ax=ax, order=order)\n",
    "  # Rotate Tick Labels for long names\n",
    "  ax.set_xticklabels(ax.get_xticklabels(), rotation=45, ha='right')\n",
    "  # Add a title with the feature name included\n",
    "  ax.set_title(f\"Column: {x}\", fontweight='bold')\n",
    "\n",
    "  # Fix layout and show plot (before print statements)\n",
    "  fig.tight_layout()\n",
    "  plt.show()\n",
    "\n",
    "  # Print null value info\n",
    "  print(f\"- NaN's Found: {null_count} ({round(null_perc,2)}%)\")\n",
    "  # Print cardinality info\n",
    "  nunique = temp_df[x].nunique()\n",
    "  print(f\"- Unique Values: {nunique}\")\n",
    "  # Value counts of feature\n",
    "  val_counts = temp_df[x].value_counts(dropna=False)\n",
    "  # Define most common value\n",
    "  most_common_val = val_counts.index[0]\n",
    "  # Define most common val frequency\n",
    "  freq = val_counts.values[0]\n",
    "  # Calculate the percentage of the most common value\n",
    "  perc_most_common = freq / len(temp_df) * 100\n",
    "  # Print results\n",
    "  print(f\"- Most common value: '{most_common_val}' occurs {freq} times ({round(perc_most_common,2)}%)\")\n",
    "  # print message if quasi-constant or constant (most common val more than 98% of data)\n",
    "  if perc_most_common > 98:\n",
    "    print(f\"\\n- [!] Warning: '{x}' is a constant or quasi-constant feature and should be dropped.\")\n",
    "  else:\n",
    "    print(\"- Not constant or quasi-constant.\")\n",
    "  return fig, ax\n",
    "\n",
    "def explore_numeric(df2, x, figsize=(6,5)):\n",
    "  ## Save null value counts and percent\n",
    "  null_count = df2[x].isna().sum()\n",
    "  null_perc = null_count/len(df)* 100\n",
    "\n",
    "  ## Make figure with gridspec for subplots\n",
    "  gridspec = {'height_ratios':[0.7,0.3]}\n",
    "  fig, axes = plt.subplots(nrows=2, figsize=figsize,\n",
    "                           sharex=True, gridspec_kw=gridspec)\n",
    "  # Histogram (top)\n",
    "  sns.histplot(data=df2, x=x, ax=axes[0])\n",
    "\n",
    "  # Boxplot (bottom)\n",
    "  sns.boxplot(data=df2, x=x, ax=axes[1])\n",
    "\n",
    "  ## Title\n",
    "  axes[0].set_title(f\"Column: {x}\", fontweight='bold')\n",
    "\n",
    "  ## Adjusting subplots to best fill Figure\n",
    "  fig.tight_layout()\n",
    "  # Ensure plot is shown before message\n",
    "  plt.show()\n",
    "\n",
    "  # Print null value info\n",
    "  print(f\"- NaN's Found: {null_count} ({round(null_perc,2)}%)\")\n",
    "  # Print cardinality info\n",
    "  nunique = df[x].nunique()\n",
    "  print(f\"- Unique Values: {nunique}\")\n",
    "\n",
    "  # Get the most most common value and count the # and %\n",
    "  most_common_val_count = df2[x].value_counts(dropna=False).head(1)\n",
    "  most_common_val = most_common_val_count.index[0]\n",
    "  freq = most_common_val_count.values[0]\n",
    "  perc_most_common = freq / len(df) * 100\n",
    "\n",
    "  print(f\"- Most common value: '{most_common_val}' occurs {freq} times ({round(perc_most_common,2)}%)\")\n",
    "\n",
    "  # Notify if quasi-constant or constant (most common val more than 98% of data)\n",
    "  if perc_most_common > 98:\n",
    "    print(f\"\\n- [!] Warning: '{x}' is a constant or quasi-constant feature and should be dropped.\")\n",
    "  else:\n",
    "    print(\"- Not constant or quasi-constant.\")\n",
    "  return fig, axes"
   ]
  },
  {
   "cell_type": "code",
   "execution_count": 3,
   "id": "9941b3b6-1a4e-4c20-bf92-f8089833361c",
   "metadata": {},
   "outputs": [],
   "source": [
    "# Evaluation Functions\n",
    "from sklearn.metrics import ConfusionMatrixDisplay, classification_report, RocCurveDisplay\n",
    "def classification_metrics(y_true, y_pred, label='',\n",
    "                           output_dict=False, figsize=(8,4),\n",
    "                           normalize='true', cmap='Blues',\n",
    "                           colorbar=False):\n",
    "  # Get the classifiication report\n",
    "  report = classification_report(y_true, y_pred)\n",
    "  ## Print header and report\n",
    "  header = '-'*70\n",
    "  print(header, f'Classification Metrics: {label}', header, sep='\\n')\n",
    "  print(report)\n",
    "  ## CONFUSION MATRICIES SUBPLOT\n",
    "  fig, axes = plt.subplots(ncols=2, figsize=figsize)\n",
    "  # Create a confusion matrix of raw counts\n",
    "  ConfusionMatrixDisplay.from_predictions(y_true, y_pred,\n",
    "                                          normalize=None, cmap='gist_gray',\n",
    "                                          colorbar=colorbar,\n",
    "                                          ax = axes[0],)\n",
    "  axes[0].set_title('Raw Counts')\n",
    "  # Create a confusion matrix with the test data\n",
    "  ConfusionMatrixDisplay.from_predictions(y_true, y_pred,\n",
    "                                          normalize=normalize, cmap=cmap,\n",
    "                                          colorbar=colorbar,\n",
    "                                          ax = axes[1],)\n",
    "  axes[1].set_title('Normalized Confusion Matrix')\n",
    "  fig.tight_layout()\n",
    "  plt.show()\n",
    "  if output_dict==True:\n",
    "    report_dict = classification_report(y_true, y_pred, output_dict=True)\n",
    "    return report_dict\n",
    "\n",
    "def evaluate_classification(model, X_train, y_train, X_test, y_test,\n",
    "                            figsize=(6,4), normalize='true', output_dict=False,\n",
    "                            cmap_train='Blues', cmap_test='Reds',\n",
    "                            colorbar=False):\n",
    "  # Get predictions for training data\n",
    "  y_train_pred = model.predict(X_train)\n",
    "  # Call the helper function to obtain regression metrics for training data\n",
    "  results_train = classification_metrics(y_train, y_train_pred, output_dict=True,\n",
    "                                         figsize=figsize, colorbar=colorbar,\n",
    "                                         cmap=cmap_train, label='Training Data')\n",
    "  print()\n",
    "  # Get predictions for test data\n",
    "  y_test_pred = model.predict(X_test)\n",
    "  # Call the helper function to obtain regression metrics for test data\n",
    "  results_test = classification_metrics(y_test, y_test_pred, output_dict=True,\n",
    "                                        figsize=figsize, colorbar=colorbar,\n",
    "                                        cmap=cmap_test, label='Test Data')\n",
    "  if output_dict==True:\n",
    "    # Store results in a dataframe if output_dict is True\n",
    "    results_dict = {'train': results_train,\n",
    "                    'test':  results_test}\n",
    "    return results_dict"
   ]
  },
  {
   "cell_type": "code",
   "execution_count": 4,
   "id": "37ca4094-ae19-48fe-bf51-35229bccc113",
   "metadata": {},
   "outputs": [],
   "source": [
    "def plot_importance(importances, top_n=None,  figsize=(8,6)):\n",
    "    # sorting with asc=false for correct order of bars\n",
    "    if top_n==None:\n",
    "        ## sort all features and set title\n",
    "        plot_vals = importances.sort_values()\n",
    "        title = \"All Features - Ranked by Importance\"\n",
    "    else:\n",
    "        ## sort features and keep top_n and set title\n",
    "        plot_vals = importances.sort_values().tail(top_n)\n",
    "        title = f\"Top {top_n} Most Important Features\"\n",
    "    ## plotting top N importances\n",
    "    ax = plot_vals.plot(kind='barh', figsize=figsize)\n",
    "    ax.set(xlabel='Importance',\n",
    "            ylabel='Feature Names',\n",
    "            title=title)\n",
    "    ## return ax in case want to continue to update/modify figure\n",
    "    return ax"
   ]
  },
  {
   "cell_type": "markdown",
   "id": "119192d1-a64e-47ba-8f24-a4b55cb10069",
   "metadata": {
    "jp-MarkdownHeadingCollapsed": true
   },
   "source": [
    "### Examine Data"
   ]
  },
  {
   "cell_type": "code",
   "execution_count": 5,
   "id": "c6c65093-ff45-43b6-a99b-b5dd8bf76368",
   "metadata": {},
   "outputs": [
    {
     "name": "stdout",
     "output_type": "stream",
     "text": [
      "<class 'pandas.core.frame.DataFrame'>\n",
      "Int64Index: 10000 entries, 569520 to 442696\n",
      "Data columns (total 18 columns):\n",
      " #   Column               Non-Null Count  Dtype  \n",
      "---  ------               --------------  -----  \n",
      " 0   AGE                  10000 non-null  object \n",
      " 1   GENDER               10000 non-null  object \n",
      " 2   RACE                 10000 non-null  object \n",
      " 3   DRIVING_EXPERIENCE   10000 non-null  object \n",
      " 4   EDUCATION            10000 non-null  object \n",
      " 5   INCOME               10000 non-null  object \n",
      " 6   CREDIT_SCORE         9018 non-null   float64\n",
      " 7   VEHICLE_OWNERSHIP    10000 non-null  float64\n",
      " 8   VEHICLE_YEAR         10000 non-null  object \n",
      " 9   MARRIED              10000 non-null  float64\n",
      " 10  CHILDREN             10000 non-null  float64\n",
      " 11  POSTAL_CODE          10000 non-null  int64  \n",
      " 12  ANNUAL_MILEAGE       9043 non-null   float64\n",
      " 13  VEHICLE_TYPE         10000 non-null  object \n",
      " 14  SPEEDING_VIOLATIONS  10000 non-null  int64  \n",
      " 15  DUIS                 10000 non-null  int64  \n",
      " 16  PAST_ACCIDENTS       10000 non-null  int64  \n",
      " 17  OUTCOME              10000 non-null  float64\n",
      "dtypes: float64(6), int64(4), object(8)\n",
      "memory usage: 1.4+ MB\n"
     ]
    },
    {
     "data": {
      "text/html": [
       "<div>\n",
       "<style scoped>\n",
       "    .dataframe tbody tr th:only-of-type {\n",
       "        vertical-align: middle;\n",
       "    }\n",
       "\n",
       "    .dataframe tbody tr th {\n",
       "        vertical-align: top;\n",
       "    }\n",
       "\n",
       "    .dataframe thead th {\n",
       "        text-align: right;\n",
       "    }\n",
       "</style>\n",
       "<table border=\"1\" class=\"dataframe\">\n",
       "  <thead>\n",
       "    <tr style=\"text-align: right;\">\n",
       "      <th></th>\n",
       "      <th>AGE</th>\n",
       "      <th>GENDER</th>\n",
       "      <th>RACE</th>\n",
       "      <th>DRIVING_EXPERIENCE</th>\n",
       "      <th>EDUCATION</th>\n",
       "      <th>INCOME</th>\n",
       "      <th>CREDIT_SCORE</th>\n",
       "      <th>VEHICLE_OWNERSHIP</th>\n",
       "      <th>VEHICLE_YEAR</th>\n",
       "      <th>MARRIED</th>\n",
       "      <th>CHILDREN</th>\n",
       "      <th>POSTAL_CODE</th>\n",
       "      <th>ANNUAL_MILEAGE</th>\n",
       "      <th>VEHICLE_TYPE</th>\n",
       "      <th>SPEEDING_VIOLATIONS</th>\n",
       "      <th>DUIS</th>\n",
       "      <th>PAST_ACCIDENTS</th>\n",
       "      <th>OUTCOME</th>\n",
       "    </tr>\n",
       "    <tr>\n",
       "      <th>ID</th>\n",
       "      <th></th>\n",
       "      <th></th>\n",
       "      <th></th>\n",
       "      <th></th>\n",
       "      <th></th>\n",
       "      <th></th>\n",
       "      <th></th>\n",
       "      <th></th>\n",
       "      <th></th>\n",
       "      <th></th>\n",
       "      <th></th>\n",
       "      <th></th>\n",
       "      <th></th>\n",
       "      <th></th>\n",
       "      <th></th>\n",
       "      <th></th>\n",
       "      <th></th>\n",
       "      <th></th>\n",
       "    </tr>\n",
       "  </thead>\n",
       "  <tbody>\n",
       "    <tr>\n",
       "      <th>569520</th>\n",
       "      <td>65+</td>\n",
       "      <td>female</td>\n",
       "      <td>majority</td>\n",
       "      <td>0-9y</td>\n",
       "      <td>high school</td>\n",
       "      <td>upper class</td>\n",
       "      <td>0.629027</td>\n",
       "      <td>1.0</td>\n",
       "      <td>after 2015</td>\n",
       "      <td>0.0</td>\n",
       "      <td>1.0</td>\n",
       "      <td>10238</td>\n",
       "      <td>12000.0</td>\n",
       "      <td>sedan</td>\n",
       "      <td>0</td>\n",
       "      <td>0</td>\n",
       "      <td>0</td>\n",
       "      <td>0.0</td>\n",
       "    </tr>\n",
       "    <tr>\n",
       "      <th>750365</th>\n",
       "      <td>16-25</td>\n",
       "      <td>male</td>\n",
       "      <td>majority</td>\n",
       "      <td>0-9y</td>\n",
       "      <td>none</td>\n",
       "      <td>poverty</td>\n",
       "      <td>0.357757</td>\n",
       "      <td>0.0</td>\n",
       "      <td>before 2015</td>\n",
       "      <td>0.0</td>\n",
       "      <td>0.0</td>\n",
       "      <td>10238</td>\n",
       "      <td>16000.0</td>\n",
       "      <td>sedan</td>\n",
       "      <td>0</td>\n",
       "      <td>0</td>\n",
       "      <td>0</td>\n",
       "      <td>1.0</td>\n",
       "    </tr>\n",
       "    <tr>\n",
       "      <th>199901</th>\n",
       "      <td>16-25</td>\n",
       "      <td>female</td>\n",
       "      <td>majority</td>\n",
       "      <td>0-9y</td>\n",
       "      <td>high school</td>\n",
       "      <td>working class</td>\n",
       "      <td>0.493146</td>\n",
       "      <td>1.0</td>\n",
       "      <td>before 2015</td>\n",
       "      <td>0.0</td>\n",
       "      <td>0.0</td>\n",
       "      <td>10238</td>\n",
       "      <td>11000.0</td>\n",
       "      <td>sedan</td>\n",
       "      <td>0</td>\n",
       "      <td>0</td>\n",
       "      <td>0</td>\n",
       "      <td>0.0</td>\n",
       "    </tr>\n",
       "    <tr>\n",
       "      <th>478866</th>\n",
       "      <td>16-25</td>\n",
       "      <td>male</td>\n",
       "      <td>majority</td>\n",
       "      <td>0-9y</td>\n",
       "      <td>university</td>\n",
       "      <td>working class</td>\n",
       "      <td>0.206013</td>\n",
       "      <td>1.0</td>\n",
       "      <td>before 2015</td>\n",
       "      <td>0.0</td>\n",
       "      <td>1.0</td>\n",
       "      <td>32765</td>\n",
       "      <td>11000.0</td>\n",
       "      <td>sedan</td>\n",
       "      <td>0</td>\n",
       "      <td>0</td>\n",
       "      <td>0</td>\n",
       "      <td>0.0</td>\n",
       "    </tr>\n",
       "    <tr>\n",
       "      <th>731664</th>\n",
       "      <td>26-39</td>\n",
       "      <td>male</td>\n",
       "      <td>majority</td>\n",
       "      <td>10-19y</td>\n",
       "      <td>none</td>\n",
       "      <td>working class</td>\n",
       "      <td>0.388366</td>\n",
       "      <td>1.0</td>\n",
       "      <td>before 2015</td>\n",
       "      <td>0.0</td>\n",
       "      <td>0.0</td>\n",
       "      <td>32765</td>\n",
       "      <td>12000.0</td>\n",
       "      <td>sedan</td>\n",
       "      <td>2</td>\n",
       "      <td>0</td>\n",
       "      <td>1</td>\n",
       "      <td>1.0</td>\n",
       "    </tr>\n",
       "  </tbody>\n",
       "</table>\n",
       "</div>"
      ],
      "text/plain": [
       "          AGE  GENDER      RACE DRIVING_EXPERIENCE    EDUCATION  \\\n",
       "ID                                                                \n",
       "569520    65+  female  majority               0-9y  high school   \n",
       "750365  16-25    male  majority               0-9y         none   \n",
       "199901  16-25  female  majority               0-9y  high school   \n",
       "478866  16-25    male  majority               0-9y   university   \n",
       "731664  26-39    male  majority             10-19y         none   \n",
       "\n",
       "               INCOME  CREDIT_SCORE  VEHICLE_OWNERSHIP VEHICLE_YEAR  MARRIED  \\\n",
       "ID                                                                             \n",
       "569520    upper class      0.629027                1.0   after 2015      0.0   \n",
       "750365        poverty      0.357757                0.0  before 2015      0.0   \n",
       "199901  working class      0.493146                1.0  before 2015      0.0   \n",
       "478866  working class      0.206013                1.0  before 2015      0.0   \n",
       "731664  working class      0.388366                1.0  before 2015      0.0   \n",
       "\n",
       "        CHILDREN  POSTAL_CODE  ANNUAL_MILEAGE VEHICLE_TYPE  \\\n",
       "ID                                                           \n",
       "569520       1.0        10238         12000.0        sedan   \n",
       "750365       0.0        10238         16000.0        sedan   \n",
       "199901       0.0        10238         11000.0        sedan   \n",
       "478866       1.0        32765         11000.0        sedan   \n",
       "731664       0.0        32765         12000.0        sedan   \n",
       "\n",
       "        SPEEDING_VIOLATIONS  DUIS  PAST_ACCIDENTS  OUTCOME  \n",
       "ID                                                          \n",
       "569520                    0     0               0      0.0  \n",
       "750365                    0     0               0      1.0  \n",
       "199901                    0     0               0      0.0  \n",
       "478866                    0     0               0      0.0  \n",
       "731664                    2     0               1      1.0  "
      ]
     },
     "execution_count": 5,
     "metadata": {},
     "output_type": "execute_result"
    }
   ],
   "source": [
    "# Load the dataset\n",
    "df = pd.read_csv(\"Data/Car_Insurance_Claim.csv\")\n",
    "df = df.set_index('ID')\n",
    "df.info()\n",
    "df.head()"
   ]
  },
  {
   "cell_type": "code",
   "execution_count": 6,
   "id": "ab8a5198-50ee-4f7d-9e72-dc60a7405bad",
   "metadata": {},
   "outputs": [
    {
     "data": {
      "text/plain": [
       "AGE                      0\n",
       "GENDER                   0\n",
       "RACE                     0\n",
       "DRIVING_EXPERIENCE       0\n",
       "EDUCATION                0\n",
       "INCOME                   0\n",
       "CREDIT_SCORE           982\n",
       "VEHICLE_OWNERSHIP        0\n",
       "VEHICLE_YEAR             0\n",
       "MARRIED                  0\n",
       "CHILDREN                 0\n",
       "POSTAL_CODE              0\n",
       "ANNUAL_MILEAGE         957\n",
       "VEHICLE_TYPE             0\n",
       "SPEEDING_VIOLATIONS      0\n",
       "DUIS                     0\n",
       "PAST_ACCIDENTS           0\n",
       "OUTCOME                  0\n",
       "dtype: int64"
      ]
     },
     "execution_count": 6,
     "metadata": {},
     "output_type": "execute_result"
    }
   ],
   "source": [
    "df.isna().sum()"
   ]
  },
  {
   "cell_type": "code",
   "execution_count": 7,
   "id": "210760ed-ce1e-4f15-93e6-811658285cba",
   "metadata": {},
   "outputs": [
    {
     "data": {
      "text/plain": [
       "12"
      ]
     },
     "execution_count": 7,
     "metadata": {},
     "output_type": "execute_result"
    }
   ],
   "source": [
    "df.duplicated().sum()"
   ]
  },
  {
   "cell_type": "code",
   "execution_count": 8,
   "id": "917751ed-e995-4440-820a-7ae135c6b464",
   "metadata": {},
   "outputs": [
    {
     "data": {
      "text/plain": [
       "AGE                       4\n",
       "GENDER                    2\n",
       "RACE                      2\n",
       "DRIVING_EXPERIENCE        4\n",
       "EDUCATION                 3\n",
       "INCOME                    4\n",
       "CREDIT_SCORE           9018\n",
       "VEHICLE_OWNERSHIP         2\n",
       "VEHICLE_YEAR              2\n",
       "MARRIED                   2\n",
       "CHILDREN                  2\n",
       "POSTAL_CODE               4\n",
       "ANNUAL_MILEAGE           21\n",
       "VEHICLE_TYPE              2\n",
       "SPEEDING_VIOLATIONS      21\n",
       "DUIS                      7\n",
       "PAST_ACCIDENTS           15\n",
       "OUTCOME                   2\n",
       "dtype: int64"
      ]
     },
     "execution_count": 8,
     "metadata": {},
     "output_type": "execute_result"
    }
   ],
   "source": [
    "df.nunique()"
   ]
  },
  {
   "cell_type": "code",
   "execution_count": 9,
   "id": "80da7fb0-a037-4bf0-a826-0e5bc79c79b3",
   "metadata": {},
   "outputs": [
    {
     "name": "stdout",
     "output_type": "stream",
     "text": [
      "<class 'pandas.core.frame.DataFrame'>\n",
      "Int64Index: 10000 entries, 569520 to 442696\n",
      "Data columns (total 18 columns):\n",
      " #   Column               Non-Null Count  Dtype  \n",
      "---  ------               --------------  -----  \n",
      " 0   AGE                  10000 non-null  object \n",
      " 1   GENDER               10000 non-null  object \n",
      " 2   RACE                 10000 non-null  object \n",
      " 3   DRIVING_EXPERIENCE   10000 non-null  object \n",
      " 4   EDUCATION            10000 non-null  object \n",
      " 5   INCOME               10000 non-null  object \n",
      " 6   CREDIT_SCORE         9018 non-null   float64\n",
      " 7   VEHICLE_OWNERSHIP    10000 non-null  float64\n",
      " 8   VEHICLE_YEAR         10000 non-null  object \n",
      " 9   MARRIED              10000 non-null  float64\n",
      " 10  CHILDREN             10000 non-null  float64\n",
      " 11  POSTAL_CODE          10000 non-null  int64  \n",
      " 12  ANNUAL_MILEAGE       9043 non-null   float64\n",
      " 13  VEHICLE_TYPE         10000 non-null  object \n",
      " 14  SPEEDING_VIOLATIONS  10000 non-null  int64  \n",
      " 15  DUIS                 10000 non-null  int64  \n",
      " 16  PAST_ACCIDENTS       10000 non-null  int64  \n",
      " 17  OUTCOME              10000 non-null  float64\n",
      "dtypes: float64(6), int64(4), object(8)\n",
      "memory usage: 1.4+ MB\n"
     ]
    },
    {
     "data": {
      "text/html": [
       "<div>\n",
       "<style scoped>\n",
       "    .dataframe tbody tr th:only-of-type {\n",
       "        vertical-align: middle;\n",
       "    }\n",
       "\n",
       "    .dataframe tbody tr th {\n",
       "        vertical-align: top;\n",
       "    }\n",
       "\n",
       "    .dataframe thead th {\n",
       "        text-align: right;\n",
       "    }\n",
       "</style>\n",
       "<table border=\"1\" class=\"dataframe\">\n",
       "  <thead>\n",
       "    <tr style=\"text-align: right;\">\n",
       "      <th></th>\n",
       "      <th>AGE</th>\n",
       "      <th>GENDER</th>\n",
       "      <th>RACE</th>\n",
       "      <th>DRIVING_EXPERIENCE</th>\n",
       "      <th>EDUCATION</th>\n",
       "      <th>INCOME</th>\n",
       "      <th>CREDIT_SCORE</th>\n",
       "      <th>VEHICLE_OWNERSHIP</th>\n",
       "      <th>VEHICLE_YEAR</th>\n",
       "      <th>MARRIED</th>\n",
       "      <th>CHILDREN</th>\n",
       "      <th>POSTAL_CODE</th>\n",
       "      <th>ANNUAL_MILEAGE</th>\n",
       "      <th>VEHICLE_TYPE</th>\n",
       "      <th>SPEEDING_VIOLATIONS</th>\n",
       "      <th>DUIS</th>\n",
       "      <th>PAST_ACCIDENTS</th>\n",
       "      <th>OUTCOME</th>\n",
       "    </tr>\n",
       "    <tr>\n",
       "      <th>ID</th>\n",
       "      <th></th>\n",
       "      <th></th>\n",
       "      <th></th>\n",
       "      <th></th>\n",
       "      <th></th>\n",
       "      <th></th>\n",
       "      <th></th>\n",
       "      <th></th>\n",
       "      <th></th>\n",
       "      <th></th>\n",
       "      <th></th>\n",
       "      <th></th>\n",
       "      <th></th>\n",
       "      <th></th>\n",
       "      <th></th>\n",
       "      <th></th>\n",
       "      <th></th>\n",
       "      <th></th>\n",
       "    </tr>\n",
       "  </thead>\n",
       "  <tbody>\n",
       "    <tr>\n",
       "      <th>569520</th>\n",
       "      <td>65+</td>\n",
       "      <td>female</td>\n",
       "      <td>majority</td>\n",
       "      <td>0-9y</td>\n",
       "      <td>high school</td>\n",
       "      <td>upper class</td>\n",
       "      <td>0.629027</td>\n",
       "      <td>1.0</td>\n",
       "      <td>after 2015</td>\n",
       "      <td>0.0</td>\n",
       "      <td>1.0</td>\n",
       "      <td>10238</td>\n",
       "      <td>12000.0</td>\n",
       "      <td>sedan</td>\n",
       "      <td>0</td>\n",
       "      <td>0</td>\n",
       "      <td>0</td>\n",
       "      <td>0.0</td>\n",
       "    </tr>\n",
       "    <tr>\n",
       "      <th>750365</th>\n",
       "      <td>16-25</td>\n",
       "      <td>male</td>\n",
       "      <td>majority</td>\n",
       "      <td>0-9y</td>\n",
       "      <td>none</td>\n",
       "      <td>poverty</td>\n",
       "      <td>0.357757</td>\n",
       "      <td>0.0</td>\n",
       "      <td>before 2015</td>\n",
       "      <td>0.0</td>\n",
       "      <td>0.0</td>\n",
       "      <td>10238</td>\n",
       "      <td>16000.0</td>\n",
       "      <td>sedan</td>\n",
       "      <td>0</td>\n",
       "      <td>0</td>\n",
       "      <td>0</td>\n",
       "      <td>1.0</td>\n",
       "    </tr>\n",
       "    <tr>\n",
       "      <th>199901</th>\n",
       "      <td>16-25</td>\n",
       "      <td>female</td>\n",
       "      <td>majority</td>\n",
       "      <td>0-9y</td>\n",
       "      <td>high school</td>\n",
       "      <td>working class</td>\n",
       "      <td>0.493146</td>\n",
       "      <td>1.0</td>\n",
       "      <td>before 2015</td>\n",
       "      <td>0.0</td>\n",
       "      <td>0.0</td>\n",
       "      <td>10238</td>\n",
       "      <td>11000.0</td>\n",
       "      <td>sedan</td>\n",
       "      <td>0</td>\n",
       "      <td>0</td>\n",
       "      <td>0</td>\n",
       "      <td>0.0</td>\n",
       "    </tr>\n",
       "  </tbody>\n",
       "</table>\n",
       "</div>"
      ],
      "text/plain": [
       "          AGE  GENDER      RACE DRIVING_EXPERIENCE    EDUCATION  \\\n",
       "ID                                                                \n",
       "569520    65+  female  majority               0-9y  high school   \n",
       "750365  16-25    male  majority               0-9y         none   \n",
       "199901  16-25  female  majority               0-9y  high school   \n",
       "\n",
       "               INCOME  CREDIT_SCORE  VEHICLE_OWNERSHIP VEHICLE_YEAR  MARRIED  \\\n",
       "ID                                                                             \n",
       "569520    upper class      0.629027                1.0   after 2015      0.0   \n",
       "750365        poverty      0.357757                0.0  before 2015      0.0   \n",
       "199901  working class      0.493146                1.0  before 2015      0.0   \n",
       "\n",
       "        CHILDREN  POSTAL_CODE  ANNUAL_MILEAGE VEHICLE_TYPE  \\\n",
       "ID                                                           \n",
       "569520       1.0        10238         12000.0        sedan   \n",
       "750365       0.0        10238         16000.0        sedan   \n",
       "199901       0.0        10238         11000.0        sedan   \n",
       "\n",
       "        SPEEDING_VIOLATIONS  DUIS  PAST_ACCIDENTS  OUTCOME  \n",
       "ID                                                          \n",
       "569520                    0     0               0      0.0  \n",
       "750365                    0     0               0      1.0  \n",
       "199901                    0     0               0      0.0  "
      ]
     },
     "execution_count": 9,
     "metadata": {},
     "output_type": "execute_result"
    }
   ],
   "source": [
    "df.info()\n",
    "df.head(3)"
   ]
  },
  {
   "cell_type": "code",
   "execution_count": 10,
   "id": "a7e20d9c-47f2-440f-bf43-b7fc60dbfb99",
   "metadata": {},
   "outputs": [
    {
     "data": {
      "text/html": [
       "<div>\n",
       "<style scoped>\n",
       "    .dataframe tbody tr th:only-of-type {\n",
       "        vertical-align: middle;\n",
       "    }\n",
       "\n",
       "    .dataframe tbody tr th {\n",
       "        vertical-align: top;\n",
       "    }\n",
       "\n",
       "    .dataframe thead th {\n",
       "        text-align: right;\n",
       "    }\n",
       "</style>\n",
       "<table border=\"1\" class=\"dataframe\">\n",
       "  <thead>\n",
       "    <tr style=\"text-align: right;\">\n",
       "      <th></th>\n",
       "      <th>CREDIT_SCORE</th>\n",
       "      <th>VEHICLE_OWNERSHIP</th>\n",
       "      <th>MARRIED</th>\n",
       "      <th>CHILDREN</th>\n",
       "      <th>POSTAL_CODE</th>\n",
       "      <th>ANNUAL_MILEAGE</th>\n",
       "      <th>SPEEDING_VIOLATIONS</th>\n",
       "      <th>DUIS</th>\n",
       "      <th>PAST_ACCIDENTS</th>\n",
       "      <th>OUTCOME</th>\n",
       "    </tr>\n",
       "  </thead>\n",
       "  <tbody>\n",
       "    <tr>\n",
       "      <th>count</th>\n",
       "      <td>9018.000000</td>\n",
       "      <td>10000.000000</td>\n",
       "      <td>10000.000000</td>\n",
       "      <td>10000.000000</td>\n",
       "      <td>10000.000000</td>\n",
       "      <td>9043.000000</td>\n",
       "      <td>10000.000000</td>\n",
       "      <td>10000.00000</td>\n",
       "      <td>10000.000000</td>\n",
       "      <td>10000.000000</td>\n",
       "    </tr>\n",
       "    <tr>\n",
       "      <th>mean</th>\n",
       "      <td>0.515813</td>\n",
       "      <td>0.697000</td>\n",
       "      <td>0.498200</td>\n",
       "      <td>0.688800</td>\n",
       "      <td>19864.548400</td>\n",
       "      <td>11697.003207</td>\n",
       "      <td>1.482900</td>\n",
       "      <td>0.23920</td>\n",
       "      <td>1.056300</td>\n",
       "      <td>0.313300</td>\n",
       "    </tr>\n",
       "    <tr>\n",
       "      <th>std</th>\n",
       "      <td>0.137688</td>\n",
       "      <td>0.459578</td>\n",
       "      <td>0.500022</td>\n",
       "      <td>0.463008</td>\n",
       "      <td>18915.613855</td>\n",
       "      <td>2818.434528</td>\n",
       "      <td>2.241966</td>\n",
       "      <td>0.55499</td>\n",
       "      <td>1.652454</td>\n",
       "      <td>0.463858</td>\n",
       "    </tr>\n",
       "    <tr>\n",
       "      <th>min</th>\n",
       "      <td>0.053358</td>\n",
       "      <td>0.000000</td>\n",
       "      <td>0.000000</td>\n",
       "      <td>0.000000</td>\n",
       "      <td>10238.000000</td>\n",
       "      <td>2000.000000</td>\n",
       "      <td>0.000000</td>\n",
       "      <td>0.00000</td>\n",
       "      <td>0.000000</td>\n",
       "      <td>0.000000</td>\n",
       "    </tr>\n",
       "    <tr>\n",
       "      <th>25%</th>\n",
       "      <td>0.417191</td>\n",
       "      <td>0.000000</td>\n",
       "      <td>0.000000</td>\n",
       "      <td>0.000000</td>\n",
       "      <td>10238.000000</td>\n",
       "      <td>10000.000000</td>\n",
       "      <td>0.000000</td>\n",
       "      <td>0.00000</td>\n",
       "      <td>0.000000</td>\n",
       "      <td>0.000000</td>\n",
       "    </tr>\n",
       "    <tr>\n",
       "      <th>50%</th>\n",
       "      <td>0.525033</td>\n",
       "      <td>1.000000</td>\n",
       "      <td>0.000000</td>\n",
       "      <td>1.000000</td>\n",
       "      <td>10238.000000</td>\n",
       "      <td>12000.000000</td>\n",
       "      <td>0.000000</td>\n",
       "      <td>0.00000</td>\n",
       "      <td>0.000000</td>\n",
       "      <td>0.000000</td>\n",
       "    </tr>\n",
       "    <tr>\n",
       "      <th>75%</th>\n",
       "      <td>0.618312</td>\n",
       "      <td>1.000000</td>\n",
       "      <td>1.000000</td>\n",
       "      <td>1.000000</td>\n",
       "      <td>32765.000000</td>\n",
       "      <td>14000.000000</td>\n",
       "      <td>2.000000</td>\n",
       "      <td>0.00000</td>\n",
       "      <td>2.000000</td>\n",
       "      <td>1.000000</td>\n",
       "    </tr>\n",
       "    <tr>\n",
       "      <th>max</th>\n",
       "      <td>0.960819</td>\n",
       "      <td>1.000000</td>\n",
       "      <td>1.000000</td>\n",
       "      <td>1.000000</td>\n",
       "      <td>92101.000000</td>\n",
       "      <td>22000.000000</td>\n",
       "      <td>22.000000</td>\n",
       "      <td>6.00000</td>\n",
       "      <td>15.000000</td>\n",
       "      <td>1.000000</td>\n",
       "    </tr>\n",
       "  </tbody>\n",
       "</table>\n",
       "</div>"
      ],
      "text/plain": [
       "       CREDIT_SCORE  VEHICLE_OWNERSHIP       MARRIED      CHILDREN  \\\n",
       "count   9018.000000       10000.000000  10000.000000  10000.000000   \n",
       "mean       0.515813           0.697000      0.498200      0.688800   \n",
       "std        0.137688           0.459578      0.500022      0.463008   \n",
       "min        0.053358           0.000000      0.000000      0.000000   \n",
       "25%        0.417191           0.000000      0.000000      0.000000   \n",
       "50%        0.525033           1.000000      0.000000      1.000000   \n",
       "75%        0.618312           1.000000      1.000000      1.000000   \n",
       "max        0.960819           1.000000      1.000000      1.000000   \n",
       "\n",
       "        POSTAL_CODE  ANNUAL_MILEAGE  SPEEDING_VIOLATIONS         DUIS  \\\n",
       "count  10000.000000     9043.000000         10000.000000  10000.00000   \n",
       "mean   19864.548400    11697.003207             1.482900      0.23920   \n",
       "std    18915.613855     2818.434528             2.241966      0.55499   \n",
       "min    10238.000000     2000.000000             0.000000      0.00000   \n",
       "25%    10238.000000    10000.000000             0.000000      0.00000   \n",
       "50%    10238.000000    12000.000000             0.000000      0.00000   \n",
       "75%    32765.000000    14000.000000             2.000000      0.00000   \n",
       "max    92101.000000    22000.000000            22.000000      6.00000   \n",
       "\n",
       "       PAST_ACCIDENTS       OUTCOME  \n",
       "count    10000.000000  10000.000000  \n",
       "mean         1.056300      0.313300  \n",
       "std          1.652454      0.463858  \n",
       "min          0.000000      0.000000  \n",
       "25%          0.000000      0.000000  \n",
       "50%          0.000000      0.000000  \n",
       "75%          2.000000      1.000000  \n",
       "max         15.000000      1.000000  "
      ]
     },
     "execution_count": 10,
     "metadata": {},
     "output_type": "execute_result"
    }
   ],
   "source": [
    "df.describe()"
   ]
  },
  {
   "cell_type": "code",
   "execution_count": 11,
   "id": "32744a7e-0de5-4354-88fd-47c5572ea660",
   "metadata": {},
   "outputs": [
    {
     "data": {
      "text/html": [
       "<div>\n",
       "<style scoped>\n",
       "    .dataframe tbody tr th:only-of-type {\n",
       "        vertical-align: middle;\n",
       "    }\n",
       "\n",
       "    .dataframe tbody tr th {\n",
       "        vertical-align: top;\n",
       "    }\n",
       "\n",
       "    .dataframe thead th {\n",
       "        text-align: right;\n",
       "    }\n",
       "</style>\n",
       "<table border=\"1\" class=\"dataframe\">\n",
       "  <thead>\n",
       "    <tr style=\"text-align: right;\">\n",
       "      <th></th>\n",
       "      <th>AGE</th>\n",
       "      <th>GENDER</th>\n",
       "      <th>RACE</th>\n",
       "      <th>DRIVING_EXPERIENCE</th>\n",
       "      <th>EDUCATION</th>\n",
       "      <th>INCOME</th>\n",
       "      <th>VEHICLE_YEAR</th>\n",
       "      <th>VEHICLE_TYPE</th>\n",
       "    </tr>\n",
       "  </thead>\n",
       "  <tbody>\n",
       "    <tr>\n",
       "      <th>count</th>\n",
       "      <td>10000</td>\n",
       "      <td>10000</td>\n",
       "      <td>10000</td>\n",
       "      <td>10000</td>\n",
       "      <td>10000</td>\n",
       "      <td>10000</td>\n",
       "      <td>10000</td>\n",
       "      <td>10000</td>\n",
       "    </tr>\n",
       "    <tr>\n",
       "      <th>unique</th>\n",
       "      <td>4</td>\n",
       "      <td>2</td>\n",
       "      <td>2</td>\n",
       "      <td>4</td>\n",
       "      <td>3</td>\n",
       "      <td>4</td>\n",
       "      <td>2</td>\n",
       "      <td>2</td>\n",
       "    </tr>\n",
       "    <tr>\n",
       "      <th>top</th>\n",
       "      <td>26-39</td>\n",
       "      <td>female</td>\n",
       "      <td>majority</td>\n",
       "      <td>0-9y</td>\n",
       "      <td>high school</td>\n",
       "      <td>upper class</td>\n",
       "      <td>before 2015</td>\n",
       "      <td>sedan</td>\n",
       "    </tr>\n",
       "    <tr>\n",
       "      <th>freq</th>\n",
       "      <td>3063</td>\n",
       "      <td>5010</td>\n",
       "      <td>9012</td>\n",
       "      <td>3530</td>\n",
       "      <td>4157</td>\n",
       "      <td>4336</td>\n",
       "      <td>6967</td>\n",
       "      <td>9523</td>\n",
       "    </tr>\n",
       "  </tbody>\n",
       "</table>\n",
       "</div>"
      ],
      "text/plain": [
       "          AGE  GENDER      RACE DRIVING_EXPERIENCE    EDUCATION       INCOME  \\\n",
       "count   10000   10000     10000              10000        10000        10000   \n",
       "unique      4       2         2                  4            3            4   \n",
       "top     26-39  female  majority               0-9y  high school  upper class   \n",
       "freq     3063    5010      9012               3530         4157         4336   \n",
       "\n",
       "       VEHICLE_YEAR VEHICLE_TYPE  \n",
       "count         10000        10000  \n",
       "unique            2            2  \n",
       "top     before 2015        sedan  \n",
       "freq           6967         9523  "
      ]
     },
     "execution_count": 11,
     "metadata": {},
     "output_type": "execute_result"
    }
   ],
   "source": [
    "df.describe(exclude='number')"
   ]
  },
  {
   "cell_type": "markdown",
   "id": "342d9567-d7f7-4f0b-b61e-d708a259b408",
   "metadata": {},
   "source": [
    "- The dataset has 12 duplicated rows, and contains null values for credit score and annual mileage.\n",
    "- Some features have only two unique values, but are still object type. These can be converted to binary numeric values.\n",
    "    - Gender\n",
    "    - Race\n",
    "    - Vehicle Year\n",
    "- Postal Code will need to be a categorical feature.\n",
    "- Vehicle Ownership, Outcome, Married, Children, and Annual Mileage can be changed to int.\n",
    "- Driving Experience, Education, and Income will be ordinal features.\n",
    "- Credit score has a mean of 0.516, and a max of 0.961. Most credit score rating systems will not have a score above 850, so these are not simply calculated scores left as a decimal. There is no explanation or data dictionary available for the dataset."
   ]
  },
  {
   "cell_type": "markdown",
   "id": "14954cf7-156d-4cde-9a14-cc9658e54b1f",
   "metadata": {
    "jp-MarkdownHeadingCollapsed": true
   },
   "source": [
    "### Cleaning dataset"
   ]
  },
  {
   "cell_type": "code",
   "execution_count": 12,
   "id": "7dcac36c-930d-40f1-961f-eeb26bf5439c",
   "metadata": {},
   "outputs": [
    {
     "data": {
      "text/plain": [
       "0"
      ]
     },
     "execution_count": 12,
     "metadata": {},
     "output_type": "execute_result"
    }
   ],
   "source": [
    "# Drop duplicates\n",
    "df = df.drop_duplicates()\n",
    "df.duplicated().sum()"
   ]
  },
  {
   "cell_type": "code",
   "execution_count": 13,
   "id": "91165957-1564-44a6-87e5-eecf13a320b4",
   "metadata": {},
   "outputs": [
    {
     "data": {
      "text/html": [
       "<div>\n",
       "<style scoped>\n",
       "    .dataframe tbody tr th:only-of-type {\n",
       "        vertical-align: middle;\n",
       "    }\n",
       "\n",
       "    .dataframe tbody tr th {\n",
       "        vertical-align: top;\n",
       "    }\n",
       "\n",
       "    .dataframe thead th {\n",
       "        text-align: right;\n",
       "    }\n",
       "</style>\n",
       "<table border=\"1\" class=\"dataframe\">\n",
       "  <thead>\n",
       "    <tr style=\"text-align: right;\">\n",
       "      <th></th>\n",
       "      <th>AGE</th>\n",
       "      <th>Is Female</th>\n",
       "      <th>Racial Majority</th>\n",
       "      <th>DRIVING_EXPERIENCE</th>\n",
       "      <th>EDUCATION</th>\n",
       "      <th>INCOME</th>\n",
       "      <th>CREDIT_SCORE</th>\n",
       "      <th>VEHICLE_OWNERSHIP</th>\n",
       "      <th>Vehicle Post 2015</th>\n",
       "      <th>MARRIED</th>\n",
       "      <th>CHILDREN</th>\n",
       "      <th>POSTAL_CODE</th>\n",
       "      <th>ANNUAL_MILEAGE</th>\n",
       "      <th>VEHICLE_TYPE</th>\n",
       "      <th>SPEEDING_VIOLATIONS</th>\n",
       "      <th>DUIS</th>\n",
       "      <th>PAST_ACCIDENTS</th>\n",
       "      <th>OUTCOME</th>\n",
       "    </tr>\n",
       "    <tr>\n",
       "      <th>ID</th>\n",
       "      <th></th>\n",
       "      <th></th>\n",
       "      <th></th>\n",
       "      <th></th>\n",
       "      <th></th>\n",
       "      <th></th>\n",
       "      <th></th>\n",
       "      <th></th>\n",
       "      <th></th>\n",
       "      <th></th>\n",
       "      <th></th>\n",
       "      <th></th>\n",
       "      <th></th>\n",
       "      <th></th>\n",
       "      <th></th>\n",
       "      <th></th>\n",
       "      <th></th>\n",
       "      <th></th>\n",
       "    </tr>\n",
       "  </thead>\n",
       "  <tbody>\n",
       "    <tr>\n",
       "      <th>569520</th>\n",
       "      <td>65+</td>\n",
       "      <td>female</td>\n",
       "      <td>majority</td>\n",
       "      <td>0-9y</td>\n",
       "      <td>high school</td>\n",
       "      <td>upper class</td>\n",
       "      <td>0.629027</td>\n",
       "      <td>1.0</td>\n",
       "      <td>after 2015</td>\n",
       "      <td>0.0</td>\n",
       "      <td>1.0</td>\n",
       "      <td>10238</td>\n",
       "      <td>12000.0</td>\n",
       "      <td>sedan</td>\n",
       "      <td>0</td>\n",
       "      <td>0</td>\n",
       "      <td>0</td>\n",
       "      <td>0.0</td>\n",
       "    </tr>\n",
       "    <tr>\n",
       "      <th>750365</th>\n",
       "      <td>16-25</td>\n",
       "      <td>male</td>\n",
       "      <td>majority</td>\n",
       "      <td>0-9y</td>\n",
       "      <td>none</td>\n",
       "      <td>poverty</td>\n",
       "      <td>0.357757</td>\n",
       "      <td>0.0</td>\n",
       "      <td>before 2015</td>\n",
       "      <td>0.0</td>\n",
       "      <td>0.0</td>\n",
       "      <td>10238</td>\n",
       "      <td>16000.0</td>\n",
       "      <td>sedan</td>\n",
       "      <td>0</td>\n",
       "      <td>0</td>\n",
       "      <td>0</td>\n",
       "      <td>1.0</td>\n",
       "    </tr>\n",
       "    <tr>\n",
       "      <th>199901</th>\n",
       "      <td>16-25</td>\n",
       "      <td>female</td>\n",
       "      <td>majority</td>\n",
       "      <td>0-9y</td>\n",
       "      <td>high school</td>\n",
       "      <td>working class</td>\n",
       "      <td>0.493146</td>\n",
       "      <td>1.0</td>\n",
       "      <td>before 2015</td>\n",
       "      <td>0.0</td>\n",
       "      <td>0.0</td>\n",
       "      <td>10238</td>\n",
       "      <td>11000.0</td>\n",
       "      <td>sedan</td>\n",
       "      <td>0</td>\n",
       "      <td>0</td>\n",
       "      <td>0</td>\n",
       "      <td>0.0</td>\n",
       "    </tr>\n",
       "  </tbody>\n",
       "</table>\n",
       "</div>"
      ],
      "text/plain": [
       "          AGE Is Female Racial Majority DRIVING_EXPERIENCE    EDUCATION  \\\n",
       "ID                                                                        \n",
       "569520    65+    female        majority               0-9y  high school   \n",
       "750365  16-25      male        majority               0-9y         none   \n",
       "199901  16-25    female        majority               0-9y  high school   \n",
       "\n",
       "               INCOME  CREDIT_SCORE  VEHICLE_OWNERSHIP Vehicle Post 2015  \\\n",
       "ID                                                                         \n",
       "569520    upper class      0.629027                1.0        after 2015   \n",
       "750365        poverty      0.357757                0.0       before 2015   \n",
       "199901  working class      0.493146                1.0       before 2015   \n",
       "\n",
       "        MARRIED  CHILDREN  POSTAL_CODE  ANNUAL_MILEAGE VEHICLE_TYPE  \\\n",
       "ID                                                                    \n",
       "569520      0.0       1.0        10238         12000.0        sedan   \n",
       "750365      0.0       0.0        10238         16000.0        sedan   \n",
       "199901      0.0       0.0        10238         11000.0        sedan   \n",
       "\n",
       "        SPEEDING_VIOLATIONS  DUIS  PAST_ACCIDENTS  OUTCOME  \n",
       "ID                                                          \n",
       "569520                    0     0               0      0.0  \n",
       "750365                    0     0               0      1.0  \n",
       "199901                    0     0               0      0.0  "
      ]
     },
     "execution_count": 13,
     "metadata": {},
     "output_type": "execute_result"
    }
   ],
   "source": [
    "# Rename columns and replace values as needed\n",
    "rename_dict = {'GENDER': 'Is Female', 'RACE': 'Racial Majority', 'VEHICLE_YEAR': 'Vehicle Post 2015'}\n",
    "df = df.rename(rename_dict, axis=1)\n",
    "df.head(3)"
   ]
  },
  {
   "cell_type": "code",
   "execution_count": 14,
   "id": "91fefadc-4a96-4759-86b3-79f570f92fc9",
   "metadata": {},
   "outputs": [],
   "source": [
    "## Replace values in columns to match new names\n",
    "# Gender\n",
    "df['Is Female'] = df['Is Female'].str.replace('female', '1')\n",
    "df['Is Female'] = df['Is Female'].str.replace('male', '0')\n",
    "df['Is Female'] = df['Is Female'].astype(int)"
   ]
  },
  {
   "cell_type": "code",
   "execution_count": 15,
   "id": "323e561d-2372-4696-9a45-2163cf8bc4b2",
   "metadata": {},
   "outputs": [],
   "source": [
    "# Race\n",
    "df['Racial Majority'] = df['Racial Majority'].str.replace('majority', '1')\n",
    "df['Racial Majority'] = df['Racial Majority'].str.replace('minority', '0')\n",
    "df['Racial Majority'] = df['Racial Majority'].astype(int)"
   ]
  },
  {
   "cell_type": "code",
   "execution_count": 16,
   "id": "39586bed-2b47-470e-abf4-075d1a6aae2a",
   "metadata": {},
   "outputs": [],
   "source": [
    "# Model year\n",
    "df['Vehicle Post 2015'] = df['Vehicle Post 2015'].str.replace('after 2015', '1')\n",
    "df['Vehicle Post 2015'] = df['Vehicle Post 2015'].str.replace('before 2015', '0')\n",
    "df['Vehicle Post 2015'] = df['Vehicle Post 2015'].astype(int)"
   ]
  },
  {
   "cell_type": "code",
   "execution_count": 17,
   "id": "969fee74-302f-459e-9ad1-70478c79e5cf",
   "metadata": {},
   "outputs": [],
   "source": [
    "# Postal code\n",
    "df['POSTAL_CODE'] = df['POSTAL_CODE'].astype(str)"
   ]
  },
  {
   "cell_type": "code",
   "execution_count": 18,
   "id": "e0df86ac-2142-4dcb-a18f-3b04b330e52e",
   "metadata": {},
   "outputs": [],
   "source": [
    "# Convert cols to int\n",
    "df[['VEHICLE_OWNERSHIP', 'MARRIED', 'CHILDREN', 'OUTCOME']] = df[['VEHICLE_OWNERSHIP', 'MARRIED', 'CHILDREN', 'OUTCOME']].astype(int)"
   ]
  },
  {
   "cell_type": "code",
   "execution_count": 19,
   "id": "f3d94525-9522-44f4-9614-f9d7675bbc47",
   "metadata": {},
   "outputs": [
    {
     "name": "stdout",
     "output_type": "stream",
     "text": [
      "<class 'pandas.core.frame.DataFrame'>\n",
      "Int64Index: 9988 entries, 569520 to 442696\n",
      "Data columns (total 18 columns):\n",
      " #   Column               Non-Null Count  Dtype  \n",
      "---  ------               --------------  -----  \n",
      " 0   AGE                  9988 non-null   object \n",
      " 1   Is Female            9988 non-null   int32  \n",
      " 2   Racial Majority      9988 non-null   int32  \n",
      " 3   DRIVING_EXPERIENCE   9988 non-null   object \n",
      " 4   EDUCATION            9988 non-null   object \n",
      " 5   INCOME               9988 non-null   object \n",
      " 6   CREDIT_SCORE         9018 non-null   float64\n",
      " 7   VEHICLE_OWNERSHIP    9988 non-null   int32  \n",
      " 8   Vehicle Post 2015    9988 non-null   int32  \n",
      " 9   MARRIED              9988 non-null   int32  \n",
      " 10  CHILDREN             9988 non-null   int32  \n",
      " 11  POSTAL_CODE          9988 non-null   object \n",
      " 12  ANNUAL_MILEAGE       9034 non-null   float64\n",
      " 13  VEHICLE_TYPE         9988 non-null   object \n",
      " 14  SPEEDING_VIOLATIONS  9988 non-null   int64  \n",
      " 15  DUIS                 9988 non-null   int64  \n",
      " 16  PAST_ACCIDENTS       9988 non-null   int64  \n",
      " 17  OUTCOME              9988 non-null   int32  \n",
      "dtypes: float64(2), int32(7), int64(3), object(6)\n",
      "memory usage: 1.2+ MB\n"
     ]
    }
   ],
   "source": [
    "df.info()"
   ]
  },
  {
   "cell_type": "code",
   "execution_count": 20,
   "id": "70eec03e-ab96-4743-8390-69383fc9b7fe",
   "metadata": {},
   "outputs": [],
   "source": [
    "# Save cleaned dataframe\n",
    "df.to_csv('Data/Clean_Car_Insurance_Claim.csv', index=True)"
   ]
  },
  {
   "cell_type": "markdown",
   "id": "373dbe59-35b8-4519-984b-fb60af5e7b60",
   "metadata": {
    "jp-MarkdownHeadingCollapsed": true
   },
   "source": [
    "### Preprocessing Data and Choosing a Model"
   ]
  },
  {
   "cell_type": "markdown",
   "id": "13317e0d-e3c7-4dd8-be9d-7df807a29442",
   "metadata": {
    "jp-MarkdownHeadingCollapsed": true
   },
   "source": [
    "#### Preprocess"
   ]
  },
  {
   "cell_type": "code",
   "execution_count": 21,
   "id": "3cc48ad9-9103-4a50-bb58-a72e847ec689",
   "metadata": {},
   "outputs": [],
   "source": [
    "# Perform TTS on dataframe and preprocess training data\n",
    "target = 'OUTCOME'\n",
    "y = df[target]\n",
    "X = df.drop(columns=target, axis=1)\n",
    "\n",
    "X_train, X_test, y_train, y_test = train_test_split(X, y, random_state=42)"
   ]
  },
  {
   "cell_type": "markdown",
   "id": "62a31c4f-cc18-44e8-badc-fed714558410",
   "metadata": {},
   "source": [
    "**Define lists of columns**"
   ]
  },
  {
   "cell_type": "code",
   "execution_count": 22,
   "id": "42457b8d-42c6-464d-bf7e-2238687ab238",
   "metadata": {},
   "outputs": [
    {
     "data": {
      "text/plain": [
       "Index(['AGE', 'DRIVING_EXPERIENCE', 'EDUCATION', 'INCOME'], dtype='object')"
      ]
     },
     "execution_count": 22,
     "metadata": {},
     "output_type": "execute_result"
    }
   ],
   "source": [
    "## Create pipelines for preprocessing\n",
    "# Ordinal cols\n",
    "ord_cols = X_train[['AGE', 'DRIVING_EXPERIENCE', 'EDUCATION', 'INCOME']].columns\n",
    "ord_cols"
   ]
  },
  {
   "cell_type": "code",
   "execution_count": 23,
   "id": "561a6987-e32e-4c0c-b776-cedcbde4047d",
   "metadata": {},
   "outputs": [
    {
     "data": {
      "text/plain": [
       "Index(['POSTAL_CODE', 'VEHICLE_TYPE'], dtype='object')"
      ]
     },
     "execution_count": 23,
     "metadata": {},
     "output_type": "execute_result"
    }
   ],
   "source": [
    "# Categorical cols\n",
    "cat_cols = X_train.select_dtypes('object').drop(columns=ord_cols).columns\n",
    "cat_cols"
   ]
  },
  {
   "cell_type": "code",
   "execution_count": 24,
   "id": "ed764be4-9d8f-476e-82e6-e5062facfafa",
   "metadata": {},
   "outputs": [
    {
     "data": {
      "text/plain": [
       "Index(['Is Female', 'Racial Majority', 'CREDIT_SCORE', 'VEHICLE_OWNERSHIP',\n",
       "       'Vehicle Post 2015', 'MARRIED', 'CHILDREN', 'ANNUAL_MILEAGE',\n",
       "       'SPEEDING_VIOLATIONS', 'DUIS', 'PAST_ACCIDENTS'],\n",
       "      dtype='object')"
      ]
     },
     "execution_count": 24,
     "metadata": {},
     "output_type": "execute_result"
    }
   ],
   "source": [
    "# Numeric cols\n",
    "num_cols = X_train.select_dtypes('number').columns\n",
    "num_cols"
   ]
  },
  {
   "cell_type": "markdown",
   "id": "e3417c3a-3777-49ee-a303-e5ccf845916f",
   "metadata": {},
   "source": [
    "**Make pipelines**"
   ]
  },
  {
   "cell_type": "code",
   "execution_count": 25,
   "id": "b3aa8157-e9fd-47bc-8e1d-8b27d78f4860",
   "metadata": {},
   "outputs": [],
   "source": [
    "## Create ordinal pipeline\n",
    "# Specify order of ordinal features\n",
    "age_order = ['16-25', '26-39', '40-64', '65+']\n",
    "exp_order = ['0-9y', '10-19y', '20-29y', '30y+']\n",
    "edu_order = ['none', 'high school', 'university']\n",
    "inc_order = ['poverty', 'working class', 'middle class', 'upper class']\n",
    "\n",
    "# Create order list\n",
    "ordinal_cat_orders = [age_order, exp_order, edu_order, inc_order]\n",
    "\n",
    "# Instantiate scaler, transformers\n",
    "ord_scaler = StandardScaler()\n",
    "ord_enc = OrdinalEncoder(categories=ordinal_cat_orders)\n",
    "\n",
    "# Create pipeline\n",
    "ord_pipe = make_pipeline(ord_enc, ord_scaler)\n",
    "ord_tuple = ('ordinal', ord_pipe, ord_cols)"
   ]
  },
  {
   "cell_type": "code",
   "execution_count": 26,
   "id": "1d292b5e-6bf0-4dbc-b71e-e84ead3e064c",
   "metadata": {},
   "outputs": [],
   "source": [
    "## Create numeric pipeline\n",
    "# Instantiate imputer\n",
    "simple_imputer = SimpleImputer(strategy='median')\n",
    "scaler = StandardScaler()\n",
    "\n",
    "# Create pipeline\n",
    "num_pipe = make_pipeline(scaler, simple_imputer)\n",
    "num_tuple = ('numeric', num_pipe, num_cols)"
   ]
  },
  {
   "cell_type": "code",
   "execution_count": 27,
   "id": "85be8a51-f4d1-457b-81c0-cfe31f0cedb6",
   "metadata": {},
   "outputs": [],
   "source": [
    "## Create categorical pipeline\n",
    "# Instatntiate ohe\n",
    "ohe = OneHotEncoder(handle_unknown='ignore', sparse_output=False)\n",
    "cat_pipe = make_pipeline(ohe)\n",
    "cat_tuple = ('categorical', cat_pipe, cat_cols)"
   ]
  },
  {
   "cell_type": "code",
   "execution_count": 28,
   "id": "cc10de94-cf96-4b29-9ec5-3149787b127d",
   "metadata": {},
   "outputs": [
    {
     "data": {
      "text/html": [
       "<style>#sk-container-id-1 {color: black;background-color: white;}#sk-container-id-1 pre{padding: 0;}#sk-container-id-1 div.sk-toggleable {background-color: white;}#sk-container-id-1 label.sk-toggleable__label {cursor: pointer;display: block;width: 100%;margin-bottom: 0;padding: 0.3em;box-sizing: border-box;text-align: center;}#sk-container-id-1 label.sk-toggleable__label-arrow:before {content: \"▸\";float: left;margin-right: 0.25em;color: #696969;}#sk-container-id-1 label.sk-toggleable__label-arrow:hover:before {color: black;}#sk-container-id-1 div.sk-estimator:hover label.sk-toggleable__label-arrow:before {color: black;}#sk-container-id-1 div.sk-toggleable__content {max-height: 0;max-width: 0;overflow: hidden;text-align: left;background-color: #f0f8ff;}#sk-container-id-1 div.sk-toggleable__content pre {margin: 0.2em;color: black;border-radius: 0.25em;background-color: #f0f8ff;}#sk-container-id-1 input.sk-toggleable__control:checked~div.sk-toggleable__content {max-height: 200px;max-width: 100%;overflow: auto;}#sk-container-id-1 input.sk-toggleable__control:checked~label.sk-toggleable__label-arrow:before {content: \"▾\";}#sk-container-id-1 div.sk-estimator input.sk-toggleable__control:checked~label.sk-toggleable__label {background-color: #d4ebff;}#sk-container-id-1 div.sk-label input.sk-toggleable__control:checked~label.sk-toggleable__label {background-color: #d4ebff;}#sk-container-id-1 input.sk-hidden--visually {border: 0;clip: rect(1px 1px 1px 1px);clip: rect(1px, 1px, 1px, 1px);height: 1px;margin: -1px;overflow: hidden;padding: 0;position: absolute;width: 1px;}#sk-container-id-1 div.sk-estimator {font-family: monospace;background-color: #f0f8ff;border: 1px dotted black;border-radius: 0.25em;box-sizing: border-box;margin-bottom: 0.5em;}#sk-container-id-1 div.sk-estimator:hover {background-color: #d4ebff;}#sk-container-id-1 div.sk-parallel-item::after {content: \"\";width: 100%;border-bottom: 1px solid gray;flex-grow: 1;}#sk-container-id-1 div.sk-label:hover label.sk-toggleable__label {background-color: #d4ebff;}#sk-container-id-1 div.sk-serial::before {content: \"\";position: absolute;border-left: 1px solid gray;box-sizing: border-box;top: 0;bottom: 0;left: 50%;z-index: 0;}#sk-container-id-1 div.sk-serial {display: flex;flex-direction: column;align-items: center;background-color: white;padding-right: 0.2em;padding-left: 0.2em;position: relative;}#sk-container-id-1 div.sk-item {position: relative;z-index: 1;}#sk-container-id-1 div.sk-parallel {display: flex;align-items: stretch;justify-content: center;background-color: white;position: relative;}#sk-container-id-1 div.sk-item::before, #sk-container-id-1 div.sk-parallel-item::before {content: \"\";position: absolute;border-left: 1px solid gray;box-sizing: border-box;top: 0;bottom: 0;left: 50%;z-index: -1;}#sk-container-id-1 div.sk-parallel-item {display: flex;flex-direction: column;z-index: 1;position: relative;background-color: white;}#sk-container-id-1 div.sk-parallel-item:first-child::after {align-self: flex-end;width: 50%;}#sk-container-id-1 div.sk-parallel-item:last-child::after {align-self: flex-start;width: 50%;}#sk-container-id-1 div.sk-parallel-item:only-child::after {width: 0;}#sk-container-id-1 div.sk-dashed-wrapped {border: 1px dashed gray;margin: 0 0.4em 0.5em 0.4em;box-sizing: border-box;padding-bottom: 0.4em;background-color: white;}#sk-container-id-1 div.sk-label label {font-family: monospace;font-weight: bold;display: inline-block;line-height: 1.2em;}#sk-container-id-1 div.sk-label-container {text-align: center;}#sk-container-id-1 div.sk-container {/* jupyter's `normalize.less` sets `[hidden] { display: none; }` but bootstrap.min.css set `[hidden] { display: none !important; }` so we also need the `!important` here to be able to override the default hidden behavior on the sphinx rendered scikit-learn.org. See: https://github.com/scikit-learn/scikit-learn/issues/21755 */display: inline-block !important;position: relative;}#sk-container-id-1 div.sk-text-repr-fallback {display: none;}</style><div id=\"sk-container-id-1\" class=\"sk-top-container\"><div class=\"sk-text-repr-fallback\"><pre>ColumnTransformer(transformers=[(&#x27;ordinal&#x27;,\n",
       "                                 Pipeline(steps=[(&#x27;ordinalencoder&#x27;,\n",
       "                                                  OrdinalEncoder(categories=[[&#x27;16-25&#x27;,\n",
       "                                                                              &#x27;26-39&#x27;,\n",
       "                                                                              &#x27;40-64&#x27;,\n",
       "                                                                              &#x27;65+&#x27;],\n",
       "                                                                             [&#x27;0-9y&#x27;,\n",
       "                                                                              &#x27;10-19y&#x27;,\n",
       "                                                                              &#x27;20-29y&#x27;,\n",
       "                                                                              &#x27;30y+&#x27;],\n",
       "                                                                             [&#x27;none&#x27;,\n",
       "                                                                              &#x27;high &#x27;\n",
       "                                                                              &#x27;school&#x27;,\n",
       "                                                                              &#x27;university&#x27;],\n",
       "                                                                             [&#x27;poverty&#x27;,\n",
       "                                                                              &#x27;working &#x27;\n",
       "                                                                              &#x27;class&#x27;,\n",
       "                                                                              &#x27;middle &#x27;\n",
       "                                                                              &#x27;class&#x27;,\n",
       "                                                                              &#x27;upper &#x27;\n",
       "                                                                              &#x27;class&#x27;]])),\n",
       "                                                 (&#x27;standardscaler&#x27;,\n",
       "                                                  StandardScaler())]),\n",
       "                                 Index([&#x27;AGE&#x27;, &#x27;DRIVING_EXPERIENCE&#x27;, &#x27;EDUCATI...\n",
       "                                 Index([&#x27;Is Female&#x27;, &#x27;Racial Majority&#x27;, &#x27;CREDIT_SCORE&#x27;, &#x27;VEHICLE_OWNERSHIP&#x27;,\n",
       "       &#x27;Vehicle Post 2015&#x27;, &#x27;MARRIED&#x27;, &#x27;CHILDREN&#x27;, &#x27;ANNUAL_MILEAGE&#x27;,\n",
       "       &#x27;SPEEDING_VIOLATIONS&#x27;, &#x27;DUIS&#x27;, &#x27;PAST_ACCIDENTS&#x27;],\n",
       "      dtype=&#x27;object&#x27;)),\n",
       "                                (&#x27;categorical&#x27;,\n",
       "                                 Pipeline(steps=[(&#x27;onehotencoder&#x27;,\n",
       "                                                  OneHotEncoder(handle_unknown=&#x27;ignore&#x27;,\n",
       "                                                                sparse_output=False))]),\n",
       "                                 Index([&#x27;POSTAL_CODE&#x27;, &#x27;VEHICLE_TYPE&#x27;], dtype=&#x27;object&#x27;))],\n",
       "                  verbose_feature_names_out=False)</pre><b>In a Jupyter environment, please rerun this cell to show the HTML representation or trust the notebook. <br />On GitHub, the HTML representation is unable to render, please try loading this page with nbviewer.org.</b></div><div class=\"sk-container\" hidden><div class=\"sk-item sk-dashed-wrapped\"><div class=\"sk-label-container\"><div class=\"sk-label sk-toggleable\"><input class=\"sk-toggleable__control sk-hidden--visually\" id=\"sk-estimator-id-1\" type=\"checkbox\" ><label for=\"sk-estimator-id-1\" class=\"sk-toggleable__label sk-toggleable__label-arrow\">ColumnTransformer</label><div class=\"sk-toggleable__content\"><pre>ColumnTransformer(transformers=[(&#x27;ordinal&#x27;,\n",
       "                                 Pipeline(steps=[(&#x27;ordinalencoder&#x27;,\n",
       "                                                  OrdinalEncoder(categories=[[&#x27;16-25&#x27;,\n",
       "                                                                              &#x27;26-39&#x27;,\n",
       "                                                                              &#x27;40-64&#x27;,\n",
       "                                                                              &#x27;65+&#x27;],\n",
       "                                                                             [&#x27;0-9y&#x27;,\n",
       "                                                                              &#x27;10-19y&#x27;,\n",
       "                                                                              &#x27;20-29y&#x27;,\n",
       "                                                                              &#x27;30y+&#x27;],\n",
       "                                                                             [&#x27;none&#x27;,\n",
       "                                                                              &#x27;high &#x27;\n",
       "                                                                              &#x27;school&#x27;,\n",
       "                                                                              &#x27;university&#x27;],\n",
       "                                                                             [&#x27;poverty&#x27;,\n",
       "                                                                              &#x27;working &#x27;\n",
       "                                                                              &#x27;class&#x27;,\n",
       "                                                                              &#x27;middle &#x27;\n",
       "                                                                              &#x27;class&#x27;,\n",
       "                                                                              &#x27;upper &#x27;\n",
       "                                                                              &#x27;class&#x27;]])),\n",
       "                                                 (&#x27;standardscaler&#x27;,\n",
       "                                                  StandardScaler())]),\n",
       "                                 Index([&#x27;AGE&#x27;, &#x27;DRIVING_EXPERIENCE&#x27;, &#x27;EDUCATI...\n",
       "                                 Index([&#x27;Is Female&#x27;, &#x27;Racial Majority&#x27;, &#x27;CREDIT_SCORE&#x27;, &#x27;VEHICLE_OWNERSHIP&#x27;,\n",
       "       &#x27;Vehicle Post 2015&#x27;, &#x27;MARRIED&#x27;, &#x27;CHILDREN&#x27;, &#x27;ANNUAL_MILEAGE&#x27;,\n",
       "       &#x27;SPEEDING_VIOLATIONS&#x27;, &#x27;DUIS&#x27;, &#x27;PAST_ACCIDENTS&#x27;],\n",
       "      dtype=&#x27;object&#x27;)),\n",
       "                                (&#x27;categorical&#x27;,\n",
       "                                 Pipeline(steps=[(&#x27;onehotencoder&#x27;,\n",
       "                                                  OneHotEncoder(handle_unknown=&#x27;ignore&#x27;,\n",
       "                                                                sparse_output=False))]),\n",
       "                                 Index([&#x27;POSTAL_CODE&#x27;, &#x27;VEHICLE_TYPE&#x27;], dtype=&#x27;object&#x27;))],\n",
       "                  verbose_feature_names_out=False)</pre></div></div></div><div class=\"sk-parallel\"><div class=\"sk-parallel-item\"><div class=\"sk-item\"><div class=\"sk-label-container\"><div class=\"sk-label sk-toggleable\"><input class=\"sk-toggleable__control sk-hidden--visually\" id=\"sk-estimator-id-2\" type=\"checkbox\" ><label for=\"sk-estimator-id-2\" class=\"sk-toggleable__label sk-toggleable__label-arrow\">ordinal</label><div class=\"sk-toggleable__content\"><pre>Index([&#x27;AGE&#x27;, &#x27;DRIVING_EXPERIENCE&#x27;, &#x27;EDUCATION&#x27;, &#x27;INCOME&#x27;], dtype=&#x27;object&#x27;)</pre></div></div></div><div class=\"sk-serial\"><div class=\"sk-item\"><div class=\"sk-serial\"><div class=\"sk-item\"><div class=\"sk-estimator sk-toggleable\"><input class=\"sk-toggleable__control sk-hidden--visually\" id=\"sk-estimator-id-3\" type=\"checkbox\" ><label for=\"sk-estimator-id-3\" class=\"sk-toggleable__label sk-toggleable__label-arrow\">OrdinalEncoder</label><div class=\"sk-toggleable__content\"><pre>OrdinalEncoder(categories=[[&#x27;16-25&#x27;, &#x27;26-39&#x27;, &#x27;40-64&#x27;, &#x27;65+&#x27;],\n",
       "                           [&#x27;0-9y&#x27;, &#x27;10-19y&#x27;, &#x27;20-29y&#x27;, &#x27;30y+&#x27;],\n",
       "                           [&#x27;none&#x27;, &#x27;high school&#x27;, &#x27;university&#x27;],\n",
       "                           [&#x27;poverty&#x27;, &#x27;working class&#x27;, &#x27;middle class&#x27;,\n",
       "                            &#x27;upper class&#x27;]])</pre></div></div></div><div class=\"sk-item\"><div class=\"sk-estimator sk-toggleable\"><input class=\"sk-toggleable__control sk-hidden--visually\" id=\"sk-estimator-id-4\" type=\"checkbox\" ><label for=\"sk-estimator-id-4\" class=\"sk-toggleable__label sk-toggleable__label-arrow\">StandardScaler</label><div class=\"sk-toggleable__content\"><pre>StandardScaler()</pre></div></div></div></div></div></div></div></div><div class=\"sk-parallel-item\"><div class=\"sk-item\"><div class=\"sk-label-container\"><div class=\"sk-label sk-toggleable\"><input class=\"sk-toggleable__control sk-hidden--visually\" id=\"sk-estimator-id-5\" type=\"checkbox\" ><label for=\"sk-estimator-id-5\" class=\"sk-toggleable__label sk-toggleable__label-arrow\">numeric</label><div class=\"sk-toggleable__content\"><pre>Index([&#x27;Is Female&#x27;, &#x27;Racial Majority&#x27;, &#x27;CREDIT_SCORE&#x27;, &#x27;VEHICLE_OWNERSHIP&#x27;,\n",
       "       &#x27;Vehicle Post 2015&#x27;, &#x27;MARRIED&#x27;, &#x27;CHILDREN&#x27;, &#x27;ANNUAL_MILEAGE&#x27;,\n",
       "       &#x27;SPEEDING_VIOLATIONS&#x27;, &#x27;DUIS&#x27;, &#x27;PAST_ACCIDENTS&#x27;],\n",
       "      dtype=&#x27;object&#x27;)</pre></div></div></div><div class=\"sk-serial\"><div class=\"sk-item\"><div class=\"sk-serial\"><div class=\"sk-item\"><div class=\"sk-estimator sk-toggleable\"><input class=\"sk-toggleable__control sk-hidden--visually\" id=\"sk-estimator-id-6\" type=\"checkbox\" ><label for=\"sk-estimator-id-6\" class=\"sk-toggleable__label sk-toggleable__label-arrow\">StandardScaler</label><div class=\"sk-toggleable__content\"><pre>StandardScaler()</pre></div></div></div><div class=\"sk-item\"><div class=\"sk-estimator sk-toggleable\"><input class=\"sk-toggleable__control sk-hidden--visually\" id=\"sk-estimator-id-7\" type=\"checkbox\" ><label for=\"sk-estimator-id-7\" class=\"sk-toggleable__label sk-toggleable__label-arrow\">SimpleImputer</label><div class=\"sk-toggleable__content\"><pre>SimpleImputer(strategy=&#x27;median&#x27;)</pre></div></div></div></div></div></div></div></div><div class=\"sk-parallel-item\"><div class=\"sk-item\"><div class=\"sk-label-container\"><div class=\"sk-label sk-toggleable\"><input class=\"sk-toggleable__control sk-hidden--visually\" id=\"sk-estimator-id-8\" type=\"checkbox\" ><label for=\"sk-estimator-id-8\" class=\"sk-toggleable__label sk-toggleable__label-arrow\">categorical</label><div class=\"sk-toggleable__content\"><pre>Index([&#x27;POSTAL_CODE&#x27;, &#x27;VEHICLE_TYPE&#x27;], dtype=&#x27;object&#x27;)</pre></div></div></div><div class=\"sk-serial\"><div class=\"sk-item\"><div class=\"sk-serial\"><div class=\"sk-item\"><div class=\"sk-estimator sk-toggleable\"><input class=\"sk-toggleable__control sk-hidden--visually\" id=\"sk-estimator-id-9\" type=\"checkbox\" ><label for=\"sk-estimator-id-9\" class=\"sk-toggleable__label sk-toggleable__label-arrow\">OneHotEncoder</label><div class=\"sk-toggleable__content\"><pre>OneHotEncoder(handle_unknown=&#x27;ignore&#x27;, sparse_output=False)</pre></div></div></div></div></div></div></div></div></div></div></div></div>"
      ],
      "text/plain": [
       "ColumnTransformer(transformers=[('ordinal',\n",
       "                                 Pipeline(steps=[('ordinalencoder',\n",
       "                                                  OrdinalEncoder(categories=[['16-25',\n",
       "                                                                              '26-39',\n",
       "                                                                              '40-64',\n",
       "                                                                              '65+'],\n",
       "                                                                             ['0-9y',\n",
       "                                                                              '10-19y',\n",
       "                                                                              '20-29y',\n",
       "                                                                              '30y+'],\n",
       "                                                                             ['none',\n",
       "                                                                              'high '\n",
       "                                                                              'school',\n",
       "                                                                              'university'],\n",
       "                                                                             ['poverty',\n",
       "                                                                              'working '\n",
       "                                                                              'class',\n",
       "                                                                              'middle '\n",
       "                                                                              'class',\n",
       "                                                                              'upper '\n",
       "                                                                              'class']])),\n",
       "                                                 ('standardscaler',\n",
       "                                                  StandardScaler())]),\n",
       "                                 Index(['AGE', 'DRIVING_EXPERIENCE', 'EDUCATI...\n",
       "                                 Index(['Is Female', 'Racial Majority', 'CREDIT_SCORE', 'VEHICLE_OWNERSHIP',\n",
       "       'Vehicle Post 2015', 'MARRIED', 'CHILDREN', 'ANNUAL_MILEAGE',\n",
       "       'SPEEDING_VIOLATIONS', 'DUIS', 'PAST_ACCIDENTS'],\n",
       "      dtype='object')),\n",
       "                                ('categorical',\n",
       "                                 Pipeline(steps=[('onehotencoder',\n",
       "                                                  OneHotEncoder(handle_unknown='ignore',\n",
       "                                                                sparse_output=False))]),\n",
       "                                 Index(['POSTAL_CODE', 'VEHICLE_TYPE'], dtype='object'))],\n",
       "                  verbose_feature_names_out=False)"
      ]
     },
     "execution_count": 28,
     "metadata": {},
     "output_type": "execute_result"
    }
   ],
   "source": [
    "# Create transformer\n",
    "col_transformer = ColumnTransformer([ord_tuple, num_tuple, cat_tuple],\n",
    "                                    verbose_feature_names_out=False)\n",
    "col_transformer"
   ]
  },
  {
   "cell_type": "markdown",
   "id": "dafea85e-f629-4952-9d73-dac02473b101",
   "metadata": {
    "jp-MarkdownHeadingCollapsed": true
   },
   "source": [
    "#### Fit and transform"
   ]
  },
  {
   "cell_type": "code",
   "execution_count": 29,
   "id": "b84d35a7-a549-4f67-bb7f-dfbad128fac1",
   "metadata": {},
   "outputs": [],
   "source": [
    "# Fit and transform using col transformer\n",
    "X_train_tf = col_transformer.fit_transform(X_train)\n",
    "X_test_tf = col_transformer.transform(X_test)"
   ]
  },
  {
   "cell_type": "code",
   "execution_count": 30,
   "id": "3bc7db85-98e4-4a80-8bfc-7dab77f9755e",
   "metadata": {},
   "outputs": [
    {
     "data": {
      "text/plain": [
       "0    5144\n",
       "1    2347\n",
       "Name: OUTCOME, dtype: int64"
      ]
     },
     "execution_count": 30,
     "metadata": {},
     "output_type": "execute_result"
    }
   ],
   "source": [
    "# Check for target balance\n",
    "y_train.value_counts()"
   ]
  },
  {
   "cell_type": "code",
   "execution_count": 31,
   "id": "fe0e9651-c482-48f8-a672-f7c9aa2b1929",
   "metadata": {},
   "outputs": [],
   "source": [
    "# Rectify target balance\n",
    "smote = SMOTE(random_state=42)\n",
    "X_train_sm, y_train_sm = smote.fit_resample(X_train_tf, y_train)"
   ]
  },
  {
   "cell_type": "code",
   "execution_count": 32,
   "id": "406b78fe-5b8b-45b2-9886-c2219c6602aa",
   "metadata": {},
   "outputs": [
    {
     "data": {
      "text/plain": [
       "1    5144\n",
       "0    5144\n",
       "Name: OUTCOME, dtype: int64"
      ]
     },
     "execution_count": 32,
     "metadata": {},
     "output_type": "execute_result"
    }
   ],
   "source": [
    "# Recheck target balabnce\n",
    "y_train_sm.value_counts()"
   ]
  },
  {
   "cell_type": "markdown",
   "id": "e25d8ca0-4565-41f4-becb-99da49ebb499",
   "metadata": {},
   "source": [
    "### Modeling"
   ]
  },
  {
   "cell_type": "code",
   "execution_count": 33,
   "id": "d74cbd3d-5c8b-484a-af2f-335f9de3dbb0",
   "metadata": {},
   "outputs": [
    {
     "data": {
      "text/html": [
       "<div>\n",
       "<style scoped>\n",
       "    .dataframe tbody tr th:only-of-type {\n",
       "        vertical-align: middle;\n",
       "    }\n",
       "\n",
       "    .dataframe tbody tr th {\n",
       "        vertical-align: top;\n",
       "    }\n",
       "\n",
       "    .dataframe thead th {\n",
       "        text-align: right;\n",
       "    }\n",
       "</style>\n",
       "<table border=\"1\" class=\"dataframe\">\n",
       "  <thead>\n",
       "    <tr style=\"text-align: right;\">\n",
       "      <th></th>\n",
       "      <th>pca0</th>\n",
       "      <th>pca1</th>\n",
       "      <th>pca2</th>\n",
       "    </tr>\n",
       "  </thead>\n",
       "  <tbody>\n",
       "    <tr>\n",
       "      <th>0</th>\n",
       "      <td>1.447492</td>\n",
       "      <td>-0.578319</td>\n",
       "      <td>-1.924194</td>\n",
       "    </tr>\n",
       "    <tr>\n",
       "      <th>1</th>\n",
       "      <td>2.542810</td>\n",
       "      <td>0.121464</td>\n",
       "      <td>-0.771606</td>\n",
       "    </tr>\n",
       "    <tr>\n",
       "      <th>2</th>\n",
       "      <td>-1.986787</td>\n",
       "      <td>-0.701137</td>\n",
       "      <td>0.433130</td>\n",
       "    </tr>\n",
       "    <tr>\n",
       "      <th>3</th>\n",
       "      <td>3.646117</td>\n",
       "      <td>1.224850</td>\n",
       "      <td>0.216257</td>\n",
       "    </tr>\n",
       "    <tr>\n",
       "      <th>4</th>\n",
       "      <td>4.747588</td>\n",
       "      <td>0.705971</td>\n",
       "      <td>0.669878</td>\n",
       "    </tr>\n",
       "    <tr>\n",
       "      <th>...</th>\n",
       "      <td>...</td>\n",
       "      <td>...</td>\n",
       "      <td>...</td>\n",
       "    </tr>\n",
       "    <tr>\n",
       "      <th>10283</th>\n",
       "      <td>-2.622355</td>\n",
       "      <td>1.192677</td>\n",
       "      <td>-0.659425</td>\n",
       "    </tr>\n",
       "    <tr>\n",
       "      <th>10284</th>\n",
       "      <td>-1.191774</td>\n",
       "      <td>2.211954</td>\n",
       "      <td>-0.293655</td>\n",
       "    </tr>\n",
       "    <tr>\n",
       "      <th>10285</th>\n",
       "      <td>-3.577194</td>\n",
       "      <td>0.958944</td>\n",
       "      <td>0.708273</td>\n",
       "    </tr>\n",
       "    <tr>\n",
       "      <th>10286</th>\n",
       "      <td>1.764843</td>\n",
       "      <td>-1.460665</td>\n",
       "      <td>-1.767535</td>\n",
       "    </tr>\n",
       "    <tr>\n",
       "      <th>10287</th>\n",
       "      <td>-2.555091</td>\n",
       "      <td>2.384549</td>\n",
       "      <td>-0.581700</td>\n",
       "    </tr>\n",
       "  </tbody>\n",
       "</table>\n",
       "<p>10288 rows × 3 columns</p>\n",
       "</div>"
      ],
      "text/plain": [
       "           pca0      pca1      pca2\n",
       "0      1.447492 -0.578319 -1.924194\n",
       "1      2.542810  0.121464 -0.771606\n",
       "2     -1.986787 -0.701137  0.433130\n",
       "3      3.646117  1.224850  0.216257\n",
       "4      4.747588  0.705971  0.669878\n",
       "...         ...       ...       ...\n",
       "10283 -2.622355  1.192677 -0.659425\n",
       "10284 -1.191774  2.211954 -0.293655\n",
       "10285 -3.577194  0.958944  0.708273\n",
       "10286  1.764843 -1.460665 -1.767535\n",
       "10287 -2.555091  2.384549 -0.581700\n",
       "\n",
       "[10288 rows x 3 columns]"
      ]
     },
     "execution_count": 33,
     "metadata": {},
     "output_type": "execute_result"
    }
   ],
   "source": [
    "# Instantiate PCA to make 3 principal components\n",
    "pca = PCA(n_components=3)\n",
    "\n",
    "# Fit on scaled_X_train, and transform scaled_X_train and scaled_X_test into X_train_pcs and X_test_pcs\n",
    "X_train_pcs = pca.fit_transform(X_train_sm)\n",
    "X_test_pcs = pca.transform(X_test_tf)\n",
    "X_train_pcs"
   ]
  },
  {
   "cell_type": "code",
   "execution_count": 34,
   "id": "e3ada175-9075-4c7d-a32c-874f55f11bd5",
   "metadata": {},
   "outputs": [],
   "source": [
    "## Concatenate the principal components with the original features\n",
    "# Combine both train data on axis=1\n",
    "pc_df_train = pd.concat([X_train_pcs, X_train_sm], axis=1)\n",
    "# Combine both test data on axis=1\n",
    "pc_df_test = pd.concat([X_test_pcs, X_test_tf], axis=1)"
   ]
  },
  {
   "cell_type": "code",
   "execution_count": 35,
   "id": "4412ad9f-c420-4320-a506-ceb865451f2d",
   "metadata": {},
   "outputs": [
    {
     "name": "stdout",
     "output_type": "stream",
     "text": [
      "----------------------------------------------------------------------\n",
      "Classification Metrics: Training Data\n",
      "----------------------------------------------------------------------\n",
      "              precision    recall  f1-score   support\n",
      "\n",
      "           0       1.00      1.00      1.00      5144\n",
      "           1       1.00      1.00      1.00      5144\n",
      "\n",
      "    accuracy                           1.00     10288\n",
      "   macro avg       1.00      1.00      1.00     10288\n",
      "weighted avg       1.00      1.00      1.00     10288\n",
      "\n"
     ]
    },
    {
     "data": {
      "image/png": "[encoded data removed]",
      "text/plain": [
       "<Figure size 600x400 with 2 Axes>"
      ]
     },
     "metadata": {},
     "output_type": "display_data"
    },
    {
     "name": "stdout",
     "output_type": "stream",
     "text": [
      "\n",
      "----------------------------------------------------------------------\n",
      "Classification Metrics: Test Data\n",
      "----------------------------------------------------------------------\n",
      "              precision    recall  f1-score   support\n",
      "\n",
      "           0       0.90      0.88      0.89      1720\n",
      "           1       0.75      0.77      0.76       777\n",
      "\n",
      "    accuracy                           0.85      2497\n",
      "   macro avg       0.82      0.83      0.82      2497\n",
      "weighted avg       0.85      0.85      0.85      2497\n",
      "\n"
     ]
    },
    {
     "data": {
      "image/png": "[encoded data removed]",
      "text/plain": [
       "<Figure size 600x400 with 2 Axes>"
      ]
     },
     "metadata": {},
     "output_type": "display_data"
    }
   ],
   "source": [
    "# Create and evaluate model\n",
    "clf = RandomForestClassifier(random_state=42)\n",
    "clf.fit(pc_df_train, y_train_sm)\n",
    "\n",
    "evaluate_classification(clf, pc_df_train, y_train_sm, pc_df_test, y_test)"
   ]
  },
  {
   "cell_type": "markdown",
   "id": "2fcd040e-4fd5-4c87-a29e-238f9a0c08f0",
   "metadata": {},
   "source": [
    "- Our original model from Part 1 had an accuracy of 0.79, while our new model including PC's has an accuracy of 0.85. However, it does make use of three PC's and brings the number of features from 21 to 24."
   ]
  },
  {
   "cell_type": "markdown",
   "id": "f9a5ebb5-7b5f-4c11-9fd2-3fa9889709e0",
   "metadata": {},
   "source": [
    "#### Apply Feature Selection"
   ]
  },
  {
   "cell_type": "markdown",
   "id": "42f69d2a-b462-4a11-86fd-d77ef1490a13",
   "metadata": {},
   "source": [
    "**Examine correlations for collinearity**"
   ]
  },
  {
   "cell_type": "code",
   "execution_count": 42,
   "id": "b774d50c-ccce-4f1c-b3d8-b319fe99e546",
   "metadata": {},
   "outputs": [
    {
     "data": {
      "image/png": "[encoded data removed]",
      "text/plain": [
       "<Figure size 700x700 with 2 Axes>"
      ]
     },
     "metadata": {},
     "output_type": "display_data"
    }
   ],
   "source": [
    "# Display correlations\n",
    "corr = pc_df_train.corr()\n",
    "plt.figure(figsize=(7,7))\n",
    "sns.heatmap(corr,cmap='coolwarm');"
   ]
  },
  {
   "cell_type": "code",
   "execution_count": 37,
   "id": "13667176-a0ae-42f4-b848-18f83b63b54b",
   "metadata": {},
   "outputs": [
    {
     "name": "stdout",
     "output_type": "stream",
     "text": [
      "19 features will be kept.\n",
      "5 features will be removed.\n"
     ]
    }
   ],
   "source": [
    "# Fit on the training data, use .values\n",
    "selector = SelectNonCollinear(correlation_threshold = 0.75, scoring = f_classif)\n",
    "selector.fit(pc_df_train.values, y_train_sm.values)\n",
    "\n",
    "# Define a mask for filtering\n",
    "non_collinear = selector.get_support()\n",
    "\n",
    "# Check how many features are below the theshold\n",
    "print(f'{non_collinear.count(True)} features will be kept.')\n",
    "\n",
    "# Check how many features are above the theshold\n",
    "print(f'{non_collinear.count(False)} features will be removed.')"
   ]
  },
  {
   "cell_type": "code",
   "execution_count": 38,
   "id": "fccf613d-2e15-4d94-ba00-a874b9c983ca",
   "metadata": {},
   "outputs": [],
   "source": [
    "## Apply the filtering to create new dataframes\n",
    "## TRAINING DATA\n",
    "# Filter training data to non-collinear features\n",
    "nc_features_train = pc_df_train.values[:, non_collinear]\n",
    "# Filter column names\n",
    "columns = np.array(pc_df_train.columns)[non_collinear]\n",
    "# Make filtered training data into new dataframe\n",
    "X_train_no_corr = pd.DataFrame(nc_features_train, columns = columns)\n",
    "\n",
    "## TESTING DATA\n",
    "# Filter testing data to non-collinear features\n",
    "nc_features_test = pc_df_test.values[:, non_collinear]\n",
    "# Make test data into a dataframe\n",
    "X_test_no_corr = pd.DataFrame(nc_features_test, columns = columns)"
   ]
  },
  {
   "cell_type": "code",
   "execution_count": 43,
   "id": "f2688f1d-030b-4d9a-b64c-2ea69fe2a099",
   "metadata": {},
   "outputs": [
    {
     "data": {
      "image/png": "[encoded data removed]",
      "text/plain": [
       "<Figure size 500x500 with 2 Axes>"
      ]
     },
     "metadata": {},
     "output_type": "display_data"
    }
   ],
   "source": [
    "# Make correlation heatmap for non-collinear features\n",
    "corr = X_train_no_corr.corr()\n",
    "plt.figure(figsize=(5,5))\n",
    "sns.heatmap(corr,cmap='coolwarm');"
   ]
  },
  {
   "cell_type": "code",
   "execution_count": 44,
   "id": "78a577cf-573b-402b-a5b6-77979888b604",
   "metadata": {},
   "outputs": [
    {
     "name": "stdout",
     "output_type": "stream",
     "text": [
      "----------------------------------------------------------------------\n",
      "Classification Metrics: Training Data\n",
      "----------------------------------------------------------------------\n",
      "              precision    recall  f1-score   support\n",
      "\n",
      "           0       1.00      1.00      1.00      5144\n",
      "           1       1.00      1.00      1.00      5144\n",
      "\n",
      "    accuracy                           1.00     10288\n",
      "   macro avg       1.00      1.00      1.00     10288\n",
      "weighted avg       1.00      1.00      1.00     10288\n",
      "\n"
     ]
    },
    {
     "data": {
      "image/png": "[encoded data removed]",
      "text/plain": [
       "<Figure size 600x400 with 2 Axes>"
      ]
     },
     "metadata": {},
     "output_type": "display_data"
    },
    {
     "name": "stdout",
     "output_type": "stream",
     "text": [
      "\n",
      "----------------------------------------------------------------------\n",
      "Classification Metrics: Test Data\n",
      "----------------------------------------------------------------------\n",
      "              precision    recall  f1-score   support\n",
      "\n",
      "           0       0.89      0.86      0.87      1720\n",
      "           1       0.71      0.77      0.74       777\n",
      "\n",
      "    accuracy                           0.83      2497\n",
      "   macro avg       0.80      0.81      0.81      2497\n",
      "weighted avg       0.84      0.83      0.83      2497\n",
      "\n"
     ]
    },
    {
     "data": {
      "image/png": "[encoded data removed]",
      "text/plain": [
       "<Figure size 600x400 with 2 Axes>"
      ]
     },
     "metadata": {},
     "output_type": "display_data"
    }
   ],
   "source": [
    "# Test the performance of the model filtered for collinearity\n",
    "rf_clf = RandomForestClassifier(random_state=42)\n",
    "rf_clf.fit(X_train_no_corr, y_train_sm)\n",
    "evaluate_classification(rf_clf, X_train_no_corr, y_train_sm, X_test_no_corr, y_test)"
   ]
  },
  {
   "cell_type": "markdown",
   "id": "38629af4-ab7e-4569-bf85-28d0c5d79df1",
   "metadata": {},
   "source": [
    "- The filtered model is down from 24 features to 19, reducing the data by around 20%.\n",
    "- The cost of reducing the data by this much only dropped the accuracy from 0.85 to 0.83, which is still more accurate than our original model (0.79), while also having fewer features than the original (21)."
   ]
  },
  {
   "cell_type": "markdown",
   "id": "f0874574-2c29-4c1e-a231-3f0faf71484d",
   "metadata": {},
   "source": [
    "#### Visualize top 10 features"
   ]
  },
  {
   "cell_type": "code",
   "execution_count": 45,
   "id": "470d1f0d-0d98-4b82-a568-1239a00d0b95",
   "metadata": {},
   "outputs": [
    {
     "data": {
      "text/plain": [
       "pca0                   0.176069\n",
       "VEHICLE_OWNERSHIP      0.092457\n",
       "PAST_ACCIDENTS         0.082970\n",
       "SPEEDING_VIOLATIONS    0.075039\n",
       "Vehicle Post 2015      0.073989\n",
       "Is Female              0.073348\n",
       "POSTAL_CODE_10238      0.060673\n",
       "pca1                   0.039541\n",
       "CREDIT_SCORE           0.034390\n",
       "pca2                   0.031124\n",
       "dtype: float64"
      ]
     },
     "execution_count": 45,
     "metadata": {},
     "output_type": "execute_result"
    }
   ],
   "source": [
    "# Calculate feature permutation importances\n",
    "importances = permutation_importance(rf_clf, X_train_no_corr, y_train_sm)\n",
    "\n",
    "# Create a Series of Feature Importances\n",
    "importances_df = pd.Series(importances['importances_mean'], index=rf_clf.feature_names_in_)\n",
    "importances_df.sort_values(ascending=False).head(10)"
   ]
  },
  {
   "cell_type": "code",
   "execution_count": 46,
   "id": "b2b650ba-f827-49c1-86e1-ad7b57e051c8",
   "metadata": {},
   "outputs": [
    {
     "data": {
      "image/png": "[encoded data removed]",
      "text/plain": [
       "<Figure size 800x600 with 1 Axes>"
      ]
     },
     "metadata": {},
     "output_type": "display_data"
    }
   ],
   "source": [
    "# Visualize the top 10 permutation importances\n",
    "ax = plot_importance(importances_df, top_n=10)\n",
    "ax.set(xlabel='Permutation Importance');"
   ]
  },
  {
   "cell_type": "markdown",
   "id": "e00295b8-597c-4f0f-8545-f272904f8b5e",
   "metadata": {},
   "source": [
    "**Comparison of models**\n",
    "\n",
    "- The original deffault model, with no feature engineering or selection, had an accuracy of 0.79. Conversely, the model that had undergone feature engineering and feature selection had marginally higher accuracy at 0.83, while also having fewer features.\n",
    "- Comparing features in the default model against the final version, we see only half have remained the same. Our final model now includes three principal components in the top 10 most important features, along with Past Accidents and Speeding Violations. In contrast it no longer includes Driving Experience, Annual Mileage, Income, Age, and Education."
   ]
  }
 ],
 "metadata": {
  "kernelspec": {
   "display_name": "Python 3 (ipykernel)",
   "language": "python",
   "name": "python3"
  },
  "language_info": {
   "codemirror_mode": {
    "name": "ipython",
    "version": 3
   },
   "file_extension": ".py",
   "mimetype": "text/x-python",
   "name": "python",
   "nbconvert_exporter": "python",
   "pygments_lexer": "ipython3",
   "version": "3.10.10"
  },
  "widgets": {
   "application/vnd.jupyter.widget-state+json": {
    "state": {},
    "version_major": 2,
    "version_minor": 0
   }
  }
 },
 "nbformat": 4,
 "nbformat_minor": 5
}
